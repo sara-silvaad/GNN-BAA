{
 "cells": [
  {
   "cell_type": "markdown",
   "metadata": {},
   "source": [
    "# .MAT"
   ]
  },
  {
   "cell_type": "code",
   "execution_count": 1,
   "metadata": {},
   "outputs": [
    {
     "name": "stdout",
     "output_type": "stream",
     "text": [
      "Keys in the .mat file: dict_keys(['__header__', '__version__', '__globals__', 'cortical', 'None', 'subcortical', 'subcortical_first', '__function_workspace__'])\n",
      "Key: cortical\n",
      "Type of data in 'cortical': <class 'numpy.ndarray'>\n",
      "Shape of 'cortical': (1, 68)\n",
      "Key: None\n",
      "Type of data in 'None': <class 'scipy.io.matlab._mio5_params.MatlabOpaque'>\n",
      "Shape of 'None': (1,)\n",
      "Key: subcortical\n",
      "Type of data in 'subcortical': <class 'numpy.ndarray'>\n",
      "Shape of 'subcortical': (1, 19)\n",
      "Key: subcortical_first\n",
      "Type of data in 'subcortical_first': <class 'numpy.ndarray'>\n",
      "Shape of 'subcortical_first': (1, 1)\n"
     ]
    }
   ],
   "source": [
    "import scipy.io\n",
    "import numpy as np\n",
    "\n",
    "def load_and_inspect_mat_file(file_path):\n",
    "    # Load the .mat file\n",
    "    data = scipy.io.loadmat(file_path)\n",
    "\n",
    "    # Print basic information about the .mat file\n",
    "    print(f\"Keys in the .mat file: {data.keys()}\")\n",
    "\n",
    "    # Check each variable in the .mat file\n",
    "    for key in data:\n",
    "        # Ignore __globals__, __version__, and __header__ keys\n",
    "        if key.startswith('__') and key.endswith('__'):\n",
    "            continue\n",
    "\n",
    "        # Print the key and its type\n",
    "        print(f\"Key: {key}\")\n",
    "        print(f\"Type of data in '{key}': {type(data[key])}\")\n",
    "\n",
    "        # Print shape if it's a numpy array\n",
    "        if isinstance(data[key], np.ndarray):\n",
    "            print(f\"Shape of '{key}': {data[key].shape}\")\n",
    "\n",
    "        # Additional checks can be added here based on your specific needs\n",
    "\n",
    "    return data\n",
    "\n",
    "# Example usage\n",
    "file_path = '/home/personal/Documents/2023_2/tesis/GNN-BAA/data_processing/data/original_data/desikan_roi_zhengwu.mat'\n",
    "mat_data = load_and_inspect_mat_file(file_path)\n"
   ]
  },
  {
   "cell_type": "code",
   "execution_count": 2,
   "metadata": {},
   "outputs": [
    {
     "data": {
      "text/plain": [
       "array([[ 1,  2,  3,  5,  6,  7,  8,  9, 10, 11, 12, 13, 14, 15, 16, 17,\n",
       "        18, 19, 20, 21, 22, 23, 24, 25, 26, 27, 28, 29, 30, 31, 32, 33,\n",
       "        34, 35, 36, 37, 38, 40, 41, 42, 43, 44, 45, 46, 47, 48, 49, 50,\n",
       "        51, 52, 53, 54, 55, 56, 57, 58, 59, 60, 61, 62, 63, 64, 65, 66,\n",
       "        67, 68, 69, 70]], dtype=uint8)"
      ]
     },
     "execution_count": 2,
     "metadata": {},
     "output_type": "execute_result"
    }
   ],
   "source": [
    "mat_data['cortical']"
   ]
  },
  {
   "cell_type": "code",
   "execution_count": 3,
   "metadata": {},
   "outputs": [
    {
     "name": "stdout",
     "output_type": "stream",
     "text": [
      "Keys in the .mat file: dict_keys(['__header__', '__version__', '__globals__', 'desikan_killiany_cortical_index_to_label_struct'])\n",
      "Key: desikan_killiany_cortical_index_to_label_struct\n",
      "Type of data in 'desikan_killiany_cortical_index_to_label_struct': <class 'numpy.ndarray'>\n",
      "Shape of 'desikan_killiany_cortical_index_to_label_struct': (1, 1)\n"
     ]
    }
   ],
   "source": [
    "# Example usage\n",
    "file_path = '/home/personal/Documents/2023_2/tesis/GNN-BAA/data_processing/data/original_data/index_to_label_map/desikan-killiany/desikan_killiany_cortical_index_to_label.mat'\n",
    "mat_data = load_and_inspect_mat_file(file_path)"
   ]
  },
  {
   "cell_type": "code",
   "execution_count": 5,
   "metadata": {},
   "outputs": [
    {
     "data": {
      "text/plain": [
       "array([[1001],\n",
       "       [1002],\n",
       "       [1003],\n",
       "       [1005],\n",
       "       [1006],\n",
       "       [1007],\n",
       "       [1008],\n",
       "       [1009],\n",
       "       [1010],\n",
       "       [1011],\n",
       "       [1012],\n",
       "       [1013],\n",
       "       [1014],\n",
       "       [1015],\n",
       "       [1016],\n",
       "       [1017],\n",
       "       [1018],\n",
       "       [1019],\n",
       "       [1020],\n",
       "       [1021],\n",
       "       [1022],\n",
       "       [1023],\n",
       "       [1024],\n",
       "       [1025],\n",
       "       [1026],\n",
       "       [1027],\n",
       "       [1028],\n",
       "       [1029],\n",
       "       [1030],\n",
       "       [1031],\n",
       "       [1032],\n",
       "       [1033],\n",
       "       [1034],\n",
       "       [1035],\n",
       "       [2001],\n",
       "       [2002],\n",
       "       [2003],\n",
       "       [2005],\n",
       "       [2006],\n",
       "       [2007],\n",
       "       [2008],\n",
       "       [2009],\n",
       "       [2010],\n",
       "       [2011],\n",
       "       [2012],\n",
       "       [2013],\n",
       "       [2014],\n",
       "       [2015],\n",
       "       [2016],\n",
       "       [2017],\n",
       "       [2018],\n",
       "       [2019],\n",
       "       [2020],\n",
       "       [2021],\n",
       "       [2022],\n",
       "       [2023],\n",
       "       [2024],\n",
       "       [2025],\n",
       "       [2026],\n",
       "       [2027],\n",
       "       [2028],\n",
       "       [2029],\n",
       "       [2030],\n",
       "       [2031],\n",
       "       [2032],\n",
       "       [2033],\n",
       "       [2034],\n",
       "       [2035]], dtype=uint16)"
      ]
     },
     "execution_count": 5,
     "metadata": {},
     "output_type": "execute_result"
    }
   ],
   "source": [
    "mat_data['desikan_killiany_cortical_index_to_label_struct'][0][0][0]\n"
   ]
  },
  {
   "cell_type": "markdown",
   "metadata": {},
   "source": [
    "# NII"
   ]
  },
  {
   "cell_type": "code",
   "execution_count": null,
   "metadata": {},
   "outputs": [],
   "source": [
    "import nibabel as nib\n",
    "\n",
    "# Replace 'path_to_your_nii_file.nii' with the path to your .nii file\n",
    "nii_file_path = 'path_to_your_nii_file.nii'\n",
    "nii_data = nib.load(nii_file_path)\n",
    "\n",
    "# Access the image data\n",
    "image_data = nii_data.get_fdata()"
   ]
  }
 ],
 "metadata": {
  "kernelspec": {
   "display_name": "base",
   "language": "python",
   "name": "python3"
  },
  "language_info": {
   "codemirror_mode": {
    "name": "ipython",
    "version": 3
   },
   "file_extension": ".py",
   "mimetype": "text/x-python",
   "name": "python",
   "nbconvert_exporter": "python",
   "pygments_lexer": "ipython3",
   "version": "3.9.18"
  }
 },
 "nbformat": 4,
 "nbformat_minor": 2
}
